{
  "nbformat": 4,
  "nbformat_minor": 0,
  "metadata": {
    "colab": {
      "name": "GeneticAlgo - github version.ipynb",
      "provenance": [],
      "collapsed_sections": []
    },
    "kernelspec": {
      "display_name": "Python 3",
      "name": "python3"
    },
    "language_info": {
      "name": "python"
    }
  },
  "cells": [
    {
      "cell_type": "markdown",
      "metadata": {
        "id": "4erSd93VphVG"
      },
      "source": [
        "# **<ins>Genetic Algorithm for Knapsack Problem**"
      ]
    },
    {
      "cell_type": "code",
      "metadata": {
        "id": "6BBd8J-jwH-6"
      },
      "source": [
        "import random\n",
        "import numpy as np\n",
        "import matplotlib.pyplot as plt"
      ],
      "execution_count": null,
      "outputs": []
    },
    {
      "cell_type": "code",
      "metadata": {
        "colab": {
          "base_uri": "https://localhost:8080/"
        },
        "id": "WXAmUAUALZME",
        "outputId": "368b80f9-bcff-4b71-b9d2-9515c3891d26"
      },
      "source": [
        "from google.colab import drive \n",
        "drive.mount('/content/gdrive')"
      ],
      "execution_count": null,
      "outputs": [
        {
          "output_type": "stream",
          "text": [
            "Drive already mounted at /content/gdrive; to attempt to forcibly remount, call drive.mount(\"/content/gdrive\", force_remount=True).\n"
          ],
          "name": "stdout"
        }
      ]
    },
    {
      "cell_type": "code",
      "metadata": {
        "id": "3ODBEvZJPO5P"
      },
      "source": [
        "input_file_path = '/content/gdrive/My Drive/AI-1400/in1.txt'\n",
        "# input_file_path = 'in1.txt'"
      ],
      "execution_count": null,
      "outputs": []
    },
    {
      "cell_type": "markdown",
      "metadata": {
        "id": "RdoHZEl_A2lw"
      },
      "source": [
        "# <ins>**GA Implementation**</ins>:"
      ]
    },
    {
      "cell_type": "code",
      "metadata": {
        "id": "w61cHK_guKWz"
      },
      "source": [
        "def initialize_population(population_size, chromosome_length):\n",
        "  population = [[random.randint(0,1) for i in range(chromosome_length)]for j in range(population_size)]\n",
        "  return population"
      ],
      "execution_count": null,
      "outputs": []
    },
    {
      "cell_type": "code",
      "metadata": {
        "id": "OVq1a0gb05n5"
      },
      "source": [
        "def bit_flip_mutation(chromosome):\n",
        "  \n",
        "  flip_probability = 0.02\n",
        "  for gen in range(len(chromosome)):\n",
        "    if random.random() < flip_probability:\n",
        "      chromosome[gen] = 1 - chromosome[gen]\n",
        "\n",
        "  return chromosome"
      ],
      "execution_count": null,
      "outputs": []
    },
    {
      "cell_type": "code",
      "metadata": {
        "id": "dWvgAOHmzdzE"
      },
      "source": [
        "# I'm not using this :)\n",
        "def one_point_crossover(chromosome1, chromosome2):\n",
        "\n",
        "  chromosome_length = len(chromosome1)\n",
        "\n",
        "  # cross_over_probability = 0.8\n",
        "  # if random.random() > cross_over_probability:\n",
        "  #   return chromosome1, chromosome2\n",
        "\n",
        "  i = random.randint(1,chromosome_length-1)\n",
        "  child1 = chromosome1[0:i]+chromosome2[i:chromosome_length]\n",
        "  child2 = chromosome2[0:i]+chromosome1[i:chromosome_length]\n",
        "\n",
        "  return child1, child2"
      ],
      "execution_count": null,
      "outputs": []
    },
    {
      "cell_type": "code",
      "metadata": {
        "id": "ZO4iR0pdbSZx"
      },
      "source": [
        "def k_point_cross_over(chromosome1, chromosome2, k):\n",
        "\n",
        "  chromosome_length = len(chromosome1)\n",
        "\n",
        "  points = random.sample(range(chromosome_length-1), k)\n",
        "  points = sorted(points)\n",
        "\n",
        "  children = []\n",
        "\n",
        "  for i in range(1, 2**(k+1)-1):\n",
        "\n",
        "    child = []\n",
        "    prev_point = -1\n",
        "\n",
        "    f = \"{0:0\"+str(k+1)+\"b}\"\n",
        "    code = f.format(i)\n",
        "\n",
        "    for j in range(len(code)-1):\n",
        "\n",
        "      if code[j] == '0':\n",
        "        child = child + chromosome1[prev_point+1:points[j]+1]\n",
        "      else:\n",
        "        child = child + chromosome2[prev_point+1:points[j]+1]\n",
        "      prev_point = points[j]\n",
        "\n",
        "    if code[-1] == '0':\n",
        "      child = child + chromosome1[prev_point+1:]\n",
        "    else:\n",
        "      child = child + chromosome2[prev_point+1:]\n",
        "\n",
        "    children.append(child)\n",
        "\n",
        "  return children"
      ],
      "execution_count": null,
      "outputs": []
    },
    {
      "cell_type": "code",
      "metadata": {
        "id": "rpeb16EPNwCk"
      },
      "source": [
        "def offspring_production(parents, k_for_CO, population_size):\n",
        "\n",
        "  children = []\n",
        "\n",
        "  for p1 in range(len(parents)):\n",
        "    for p2 in range(p1+1, len(parents)):\n",
        "      children = children + k_point_cross_over(parents[p1], parents[p2], k_for_CO)\n",
        "      if len(children) == 3 * population_size:\n",
        "        return children\n",
        "\n",
        "  return children"
      ],
      "execution_count": null,
      "outputs": []
    },
    {
      "cell_type": "code",
      "metadata": {
        "id": "Om3bhxfG7l1Y"
      },
      "source": [
        "def fitness_function_Question1(prices, values, distances, value_decrease_rates, available_money, chromosome):\n",
        "  \n",
        "  chromosome_length = len(chromosome)\n",
        "\n",
        "  values_sum = sum([chromosome[i]*(values[i]-distances[i]*value_decrease_rates[i]) for i in range(chromosome_length)])\n",
        "\n",
        "  prices_sum = sum([chromosome[i]*prices[i] for i in range(chromosome_length)])\n",
        "\n",
        "  penalty_rate = 2\n",
        "  penalty = penalty_rate * max(prices_sum - available_money, 0)\n",
        "\n",
        "  fitness = max(values_sum - penalty, 100)\n",
        "  return fitness"
      ],
      "execution_count": null,
      "outputs": []
    },
    {
      "cell_type": "code",
      "metadata": {
        "id": "RiPSnMZ5zGSm"
      },
      "source": [
        "def fitness_proportional_select(prices, values, distances, value_decrease_rates, available_money, population, selection_count):\n",
        "\n",
        "  chromosome_length = len(population[0])\n",
        "  population_size = len(population)\n",
        "\n",
        "  fitnesses = np.array([fitness_function_Question1(prices, values, distances, value_decrease_rates, available_money, chromosome) for chromosome in population])\n",
        "  fitnesses_sum = sum(fitnesses)\n",
        "\n",
        "  rullet_wheel = [None] * population_size\n",
        "\n",
        "  cumulative_f = 0\n",
        "  for chromosome_index in range(population_size):\n",
        "    proportion = fitnesses[chromosome_index]/fitnesses_sum\n",
        "    cumulative_f = cumulative_f + proportion\n",
        "    rullet_wheel[chromosome_index] = cumulative_f\n",
        "\n",
        "  #increasing this number will probably cause repetitive choices\n",
        "  # precision = 10\n",
        "  random_choices = np.array(random.sample(range(population_size), selection_count))\n",
        "  random_choices = random_choices / population_size\n",
        "\n",
        "  rw = np.array(rullet_wheel)\n",
        "\n",
        "  selecteds_indices = [np.searchsorted(rw, rndm) for rndm in random_choices]\n",
        "  selecteds = [population[i] for i in selecteds_indices]\n",
        "\n",
        "  return selecteds"
      ],
      "execution_count": null,
      "outputs": []
    },
    {
      "cell_type": "code",
      "metadata": {
        "id": "SWb3IpIK6iln"
      },
      "source": [
        "# deterimines if we should stop + updates max_fitnesses and best_solutions\n",
        "def population_evaluation(prices, values, distances, value_decrease_rates, available_money, population, max_fitnesses, best_solutions):\n",
        "  \n",
        "  # after k iterations of very small changes (epsilon) algorithm will stop\n",
        "  k = 100\n",
        "  epsilon = 0.05\n",
        "  itr_num = len(best_solutions)-1\n",
        "\n",
        "  fitnesses = [fitness_function_Question1(prices, values, distances, value_decrease_rates, available_money, chromosome) for chromosome in population]\n",
        "\n",
        "  max_fitness = max(fitnesses)\n",
        "  max_fitness_index = fitnesses.index(max_fitness)\n",
        "\n",
        "  max_fitnesses.append(max_fitness)\n",
        "  best_solutions.append(population[max_fitness_index])\n",
        "\n",
        "  if itr_num >= k:\n",
        "    for i in range(k):\n",
        "      if (max_fitnesses[itr_num - i] - max_fitnesses[itr_num - i - 1])/max_fitnesses[itr_num - i - 1] > epsilon:\n",
        "        return False\n",
        "      \n",
        "    return True\n",
        "  \n",
        "  return False"
      ],
      "execution_count": null,
      "outputs": []
    },
    {
      "cell_type": "code",
      "metadata": {
        "id": "O7X9ElCitkQK"
      },
      "source": [
        "def Genetic_Algorithm(chromosome_length, prices, values, distances, value_decrease_rates, available_money):\n",
        "\n",
        "  population_size = 2 * chromosome_length\n",
        "\n",
        "  # Initialization\n",
        "  population = initialize_population(population_size, chromosome_length)\n",
        "  \n",
        "  # Evaluation\n",
        "  max_fitnesses = []\n",
        "  best_solutions = []\n",
        "  if population_evaluation(prices, values, distances, value_decrease_rates, available_money, population, max_fitnesses, best_solutions):\n",
        "    return max_fitnesses[-1], best_solutions[-1], max_fitnesses, best_solutions\n",
        "\n",
        "  for itr in range(1,201):\n",
        "\n",
        "    # Parent Selection\n",
        "    if population_size >= 10: \n",
        "      parents = fitness_proportional_select(prices, values, distances, value_decrease_rates, available_money, population, selection_count = int(population_size/2))\n",
        "    else:\n",
        "      parents = population\n",
        "\n",
        "    # Parents Recombination\n",
        "    children = offspring_production(parents, k_for_CO = 2, population_size = population_size)\n",
        "    # if population_size >= 10: \n",
        "    #   children = offspring_production(parents, k_for_CO = 3)\n",
        "    # else:\n",
        "    #   children = offspring_production(parents, k_for_CO = 2)\n",
        "\n",
        "    # Offspring Mutation\n",
        "    for i in range(len(children)):\n",
        "      children[i] = bit_flip_mutation(children[i])\n",
        "\n",
        "    # Population Evaluation\n",
        "    if population_evaluation(prices, values, distances, value_decrease_rates, available_money, population, max_fitnesses, best_solutions):\n",
        "      return max_fitnesses[-1], best_solutions[-1], max_fitnesses, best_solutions\n",
        "\n",
        "    # Survival Selection from children\n",
        "    population = fitness_proportional_select(prices, values, distances, value_decrease_rates, available_money, children, selection_count = population_size)\n",
        "\n",
        "  return max_fitnesses[-1], best_solutions[-1], max_fitnesses, best_solutions"
      ],
      "execution_count": null,
      "outputs": []
    },
    {
      "cell_type": "markdown",
      "metadata": {
        "id": "DTfyUWuG-17b"
      },
      "source": [
        "# **Main Program**"
      ]
    },
    {
      "cell_type": "code",
      "metadata": {
        "id": "lQSdFjGA3mDM"
      },
      "source": [
        "def read_input():\n",
        "\n",
        "  try:\n",
        "    file = open(input_file_path)\n",
        "    # file = open('in2.txt')\n",
        "  except FileNotFoundError:\n",
        "    print('file not found')\n",
        "    return\n",
        "\n",
        "  lines = file.readlines()\n",
        "\n",
        "  line = lines[0].rstrip().split(' ')\n",
        "  # print(line)\n",
        "\n",
        "  available_money = int(line[0])\n",
        "  # num of cars:\n",
        "  chromosome_length = int(line[1])\n",
        "  prices = [None]*chromosome_length\n",
        "  values = [None]*chromosome_length\n",
        "  distances = [None]*chromosome_length\n",
        "  value_decrease_rates = [None]*chromosome_length\n",
        "\n",
        "  for i in range(chromosome_length):\n",
        "\n",
        "    line = lines[i+1].rstrip().split(' ')\n",
        "    # print(line)\n",
        "    \n",
        "    prices[i] = int(line[0])\n",
        "    values[i] = int(line[1])\n",
        "\n",
        "    if len(line) == 4:\n",
        "      distances[i] = int(line[2])\n",
        "      value_decrease_rates[i] = int(line[3])\n",
        "    else:\n",
        "      distances[i] = 0\n",
        "      value_decrease_rates[i] = 0\n",
        "\n",
        "  return chromosome_length, prices, values, distances, value_decrease_rates, available_money"
      ],
      "execution_count": null,
      "outputs": []
    },
    {
      "cell_type": "code",
      "metadata": {
        "colab": {
          "base_uri": "https://localhost:8080/",
          "height": 296
        },
        "id": "EMlca1xqDbgP",
        "outputId": "bb5df93e-566d-49ea-f2eb-3874b222c437"
      },
      "source": [
        "chromosome_length, prices, values, distances, value_decrease_rates, available_money = read_input()\n",
        "fitness, solution, fitness_history, solution_history = Genetic_Algorithm(chromosome_length, prices, values, distances, value_decrease_rates, available_money)\n",
        "print('solution: ', solution, 'fitness: ', fitness)\n",
        "\n",
        "plt.plot(range(1, len(fitness_history)+1), fitness_history, 'r-')\n",
        "plt.ylabel('fitness')\n",
        "plt.xlabel('iteration')\n",
        "plt.show()"
      ],
      "execution_count": null,
      "outputs": [
        {
          "output_type": "stream",
          "text": [
            "solution:  [1, 1, 0, 0, 1] fitness:  900\n"
          ],
          "name": "stdout"
        },
        {
          "output_type": "display_data",
          "data": {
            "image/png": "[encoded data removed]",
            "text/plain": [
              "<Figure size 432x288 with 1 Axes>"
            ]
          },
          "metadata": {
            "tags": [],
            "needs_background": "light"
          }
        }
      ]
    }
  ]
}